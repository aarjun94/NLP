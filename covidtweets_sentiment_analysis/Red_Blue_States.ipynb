{
  "cells": [
    {
      "cell_type": "code",
      "execution_count": null,
      "id": "a7b34f33",
      "metadata": {
        "id": "a7b34f33"
      },
      "outputs": [],
      "source": [
        "import pandas as pd # library for data analysis\n",
        "import requests # library to handle requests\n",
        "from bs4 import BeautifulSoup # library to parse HTML documents\n",
        "import seaborn as sns\n",
        "import matplotlib.pyplot as plt\n",
        "import datetime\n",
        "import numpy as np\n",
        "from datetime import datetime\n",
        "import scipy.stats"
      ]
    },
    {
      "cell_type": "code",
      "execution_count": null,
      "id": "c7d89f78",
      "metadata": {
        "id": "c7d89f78"
      },
      "outputs": [],
      "source": [
        "import warnings\n",
        "warnings.filterwarnings(\"ignore\")"
      ]
    },
    {
      "cell_type": "markdown",
      "id": "2671f1bd",
      "metadata": {
        "id": "2671f1bd"
      },
      "source": [
        "### Read in Processed Tweets"
      ]
    },
    {
      "cell_type": "code",
      "execution_count": null,
      "id": "1de313b9",
      "metadata": {
        "id": "1de313b9"
      },
      "outputs": [],
      "source": [
        "tweets = pd.read_csv(\"./tweet_output_predictions.csv\")"
      ]
    },
    {
      "cell_type": "code",
      "execution_count": null,
      "id": "332d51ea",
      "metadata": {
        "id": "332d51ea"
      },
      "outputs": [],
      "source": [
        "tweets = tweets[[\"Date\", \"Location\", \"Labels\"]]"
      ]
    },
    {
      "cell_type": "code",
      "execution_count": null,
      "id": "a7240221",
      "metadata": {
        "id": "a7240221"
      },
      "outputs": [],
      "source": [
        "tweets = tweets[tweets[\"Location\"].str.contains(\", United States\")]"
      ]
    },
    {
      "cell_type": "code",
      "execution_count": null,
      "id": "66bbec34",
      "metadata": {
        "id": "66bbec34"
      },
      "outputs": [],
      "source": [
        "tweets[\"State\"] = tweets[\"Location\"].apply(lambda x: x.split(\",\")[0])"
      ]
    },
    {
      "cell_type": "code",
      "execution_count": null,
      "id": "ea6fe7e7",
      "metadata": {
        "id": "ea6fe7e7",
        "outputId": "2aae49f2-5285-4d03-e024-24548d7e04a4"
      },
      "outputs": [
        {
          "data": {
            "text/plain": [
              "array(['Neutral', 'Irrelevant', 'Positive', 'Negative'], dtype=object)"
            ]
          },
          "execution_count": 7,
          "metadata": {},
          "output_type": "execute_result"
        }
      ],
      "source": [
        "tweets.Labels.unique()"
      ]
    },
    {
      "cell_type": "code",
      "execution_count": null,
      "id": "41436285",
      "metadata": {
        "id": "41436285"
      },
      "outputs": [],
      "source": [
        "tweets.State = tweets.State.apply(lambda x: x.strip())"
      ]
    },
    {
      "cell_type": "code",
      "execution_count": null,
      "id": "03f20b32",
      "metadata": {
        "id": "03f20b32"
      },
      "outputs": [],
      "source": [
        "tweets = tweets[tweets.Labels != \"Irrelevant\"]"
      ]
    },
    {
      "cell_type": "code",
      "execution_count": null,
      "id": "a999d4b0",
      "metadata": {
        "id": "a999d4b0"
      },
      "outputs": [],
      "source": [
        "conditions = [\n",
        "    tweets['Labels'] == \"Positive\",\n",
        "    tweets['Labels'] == \"Neutral\",\n",
        "    tweets[\"Labels\"] == \"Negative\"\n",
        "]\n",
        "\n",
        "choices = [1,0, -1]\n",
        "\n",
        "tweets['Labels'] = np.select(conditions, choices, default=0)"
      ]
    },
    {
      "cell_type": "code",
      "execution_count": null,
      "id": "fca46b5d",
      "metadata": {
        "id": "fca46b5d"
      },
      "outputs": [],
      "source": [
        "tweets.Date = tweets.Date.apply(lambda x: datetime.strptime(str(x), '%Y-%m-%d %H:%M:%S+00:00').strftime('%Y'))"
      ]
    },
    {
      "cell_type": "code",
      "execution_count": null,
      "id": "2ebe50f9",
      "metadata": {
        "id": "2ebe50f9"
      },
      "outputs": [],
      "source": [
        "tweets[\"Count\"] = 1"
      ]
    },
    {
      "cell_type": "code",
      "execution_count": null,
      "id": "3a091795",
      "metadata": {
        "id": "3a091795"
      },
      "outputs": [],
      "source": [
        "tweets_grouped = tweets.groupby([\"Date\", \"State\"]).agg({'Labels':'mean', 'Count':'sum'}).reset_index()"
      ]
    },
    {
      "cell_type": "markdown",
      "id": "a84c50b4",
      "metadata": {
        "id": "a84c50b4"
      },
      "source": [
        "### Presidential election results"
      ]
    },
    {
      "cell_type": "code",
      "execution_count": null,
      "id": "b02a57f5",
      "metadata": {
        "id": "b02a57f5"
      },
      "outputs": [],
      "source": [
        "# get the response in the form of html\n",
        "wikiurl=\"https://en.wikipedia.org/wiki/List_of_United_States_presidential_election_results_by_state\"\n",
        "table_class=\"wikitable sortable jquery-tablesorter\"\n",
        "response=requests.get(wikiurl)"
      ]
    },
    {
      "cell_type": "code",
      "execution_count": null,
      "id": "a6a01f9a",
      "metadata": {
        "id": "a6a01f9a"
      },
      "outputs": [],
      "source": [
        "soup = BeautifulSoup(response.text, 'html.parser')\n",
        "states=soup.find('table',{'class':\"wikitable\"})"
      ]
    },
    {
      "cell_type": "code",
      "execution_count": null,
      "id": "13a7cfdc",
      "metadata": {
        "id": "13a7cfdc"
      },
      "outputs": [],
      "source": [
        "state_df=pd.read_html(str(states)) #into list\n",
        "state_df=pd.DataFrame(state_df[0]) #into dataframe"
      ]
    },
    {
      "cell_type": "code",
      "execution_count": null,
      "id": "40177db5",
      "metadata": {
        "id": "40177db5"
      },
      "outputs": [],
      "source": [
        "state_df.columns = state_df.iloc[0]"
      ]
    },
    {
      "cell_type": "code",
      "execution_count": null,
      "id": "88581cc2",
      "metadata": {
        "id": "88581cc2"
      },
      "outputs": [],
      "source": [
        "state_df = state_df.iloc[1:] #drop the first row since we already established it as the header"
      ]
    },
    {
      "cell_type": "code",
      "execution_count": null,
      "id": "9cafd3d0",
      "metadata": {
        "id": "9cafd3d0"
      },
      "outputs": [],
      "source": [
        "state_df = state_df[[\"State\", \"2016 ‡\", \"2020\"]] #only get the last two presidential elections"
      ]
    },
    {
      "cell_type": "code",
      "execution_count": null,
      "id": "be2929b3",
      "metadata": {
        "id": "be2929b3"
      },
      "outputs": [],
      "source": [
        "state_df = state_df.loc[:,~state_df.columns.duplicated(keep = 'first')]"
      ]
    },
    {
      "cell_type": "code",
      "execution_count": null,
      "id": "7b37d77b",
      "metadata": {
        "id": "7b37d77b"
      },
      "outputs": [],
      "source": [
        "state_df = state_df.dropna()\n",
        "state_df = state_df[state_df.State != 'State']"
      ]
    },
    {
      "cell_type": "code",
      "execution_count": null,
      "id": "e2881200",
      "metadata": {
        "id": "e2881200",
        "outputId": "d09da550-72f1-4553-c0aa-f8cc13cb3278"
      },
      "outputs": [
        {
          "data": {
            "text/html": [
              "<div>\n",
              "<style scoped>\n",
              "    .dataframe tbody tr th:only-of-type {\n",
              "        vertical-align: middle;\n",
              "    }\n",
              "\n",
              "    .dataframe tbody tr th {\n",
              "        vertical-align: top;\n",
              "    }\n",
              "\n",
              "    .dataframe thead th {\n",
              "        text-align: right;\n",
              "    }\n",
              "</style>\n",
              "<table border=\"1\" class=\"dataframe\">\n",
              "  <thead>\n",
              "    <tr style=\"text-align: right;\">\n",
              "      <th></th>\n",
              "      <th>State</th>\n",
              "      <th>2016 ‡</th>\n",
              "      <th>2020</th>\n",
              "    </tr>\n",
              "  </thead>\n",
              "  <tbody>\n",
              "    <tr>\n",
              "      <th>1</th>\n",
              "      <td>Alabama</td>\n",
              "      <td>R</td>\n",
              "      <td>R</td>\n",
              "    </tr>\n",
              "    <tr>\n",
              "      <th>2</th>\n",
              "      <td>Alaska</td>\n",
              "      <td>R</td>\n",
              "      <td>R</td>\n",
              "    </tr>\n",
              "    <tr>\n",
              "      <th>3</th>\n",
              "      <td>Arizona</td>\n",
              "      <td>R</td>\n",
              "      <td>D</td>\n",
              "    </tr>\n",
              "    <tr>\n",
              "      <th>4</th>\n",
              "      <td>Arkansas</td>\n",
              "      <td>R</td>\n",
              "      <td>R</td>\n",
              "    </tr>\n",
              "    <tr>\n",
              "      <th>5</th>\n",
              "      <td>California</td>\n",
              "      <td>D</td>\n",
              "      <td>D</td>\n",
              "    </tr>\n",
              "  </tbody>\n",
              "</table>\n",
              "</div>"
            ],
            "text/plain": [
              "0       State 2016 ‡ 2020\n",
              "1     Alabama      R    R\n",
              "2      Alaska      R    R\n",
              "3     Arizona      R    D\n",
              "4    Arkansas      R    R\n",
              "5  California      D    D"
            ]
          },
          "execution_count": 22,
          "metadata": {},
          "output_type": "execute_result"
        }
      ],
      "source": [
        "state_df.head()"
      ]
    },
    {
      "cell_type": "code",
      "execution_count": null,
      "id": "1f8fe042",
      "metadata": {
        "id": "1f8fe042"
      },
      "outputs": [],
      "source": [
        "state_df.rename(columns = {\"2016 ‡\":\"2016\"}, inplace = True)"
      ]
    },
    {
      "cell_type": "code",
      "execution_count": null,
      "id": "8640a7d5",
      "metadata": {
        "id": "8640a7d5"
      },
      "outputs": [],
      "source": [
        "changed_states = []\n",
        "\n",
        "for index, state in state_df.iterrows():\n",
        "    if not state['2016'] == state[\"2020\"]:\n",
        "        changed_states.append(state[\"State\"])"
      ]
    },
    {
      "cell_type": "code",
      "execution_count": null,
      "id": "0fea71ed",
      "metadata": {
        "scrolled": false,
        "id": "0fea71ed",
        "outputId": "b336b1cc-d4c0-468a-e8b6-accc00d356e2"
      },
      "outputs": [
        {
          "data": {
            "text/html": [
              "<div>\n",
              "<style scoped>\n",
              "    .dataframe tbody tr th:only-of-type {\n",
              "        vertical-align: middle;\n",
              "    }\n",
              "\n",
              "    .dataframe tbody tr th {\n",
              "        vertical-align: top;\n",
              "    }\n",
              "\n",
              "    .dataframe thead th {\n",
              "        text-align: right;\n",
              "    }\n",
              "</style>\n",
              "<table border=\"1\" class=\"dataframe\">\n",
              "  <thead>\n",
              "    <tr style=\"text-align: right;\">\n",
              "      <th></th>\n",
              "      <th>State</th>\n",
              "      <th>2016</th>\n",
              "      <th>2020</th>\n",
              "    </tr>\n",
              "  </thead>\n",
              "  <tbody>\n",
              "    <tr>\n",
              "      <th>3</th>\n",
              "      <td>Arizona</td>\n",
              "      <td>R</td>\n",
              "      <td>D</td>\n",
              "    </tr>\n",
              "    <tr>\n",
              "      <th>11</th>\n",
              "      <td>Georgia</td>\n",
              "      <td>R</td>\n",
              "      <td>D</td>\n",
              "    </tr>\n",
              "    <tr>\n",
              "      <th>23</th>\n",
              "      <td>Michigan</td>\n",
              "      <td>R</td>\n",
              "      <td>D</td>\n",
              "    </tr>\n",
              "    <tr>\n",
              "      <th>40</th>\n",
              "      <td>Pennsylvania</td>\n",
              "      <td>R</td>\n",
              "      <td>D</td>\n",
              "    </tr>\n",
              "    <tr>\n",
              "      <th>51</th>\n",
              "      <td>Wisconsin</td>\n",
              "      <td>R</td>\n",
              "      <td>D</td>\n",
              "    </tr>\n",
              "  </tbody>\n",
              "</table>\n",
              "</div>"
            ],
            "text/plain": [
              "0          State 2016 2020\n",
              "3        Arizona    R    D\n",
              "11       Georgia    R    D\n",
              "23      Michigan    R    D\n",
              "40  Pennsylvania    R    D\n",
              "51     Wisconsin    R    D"
            ]
          },
          "execution_count": 25,
          "metadata": {},
          "output_type": "execute_result"
        }
      ],
      "source": [
        "state_df.loc[state_df['State'].isin(changed_states)]"
      ]
    },
    {
      "cell_type": "markdown",
      "id": "da407eac",
      "metadata": {
        "id": "da407eac"
      },
      "source": [
        "#### Merge with tweet sentiment"
      ]
    },
    {
      "cell_type": "code",
      "execution_count": null,
      "id": "b35a03d5",
      "metadata": {
        "id": "b35a03d5"
      },
      "outputs": [],
      "source": [
        "rstate_2016_pres = state_df[state_df[\"2016\"] == \"R\"][\"State\"].tolist()\n",
        "rstate_2020_pres = state_df[state_df[\"2020\"] == \"R\"][\"State\"].tolist()"
      ]
    },
    {
      "cell_type": "code",
      "execution_count": null,
      "id": "25de5da1",
      "metadata": {
        "id": "25de5da1"
      },
      "outputs": [],
      "source": [
        "tweets_grouped_president = tweets_grouped.copy()"
      ]
    },
    {
      "cell_type": "code",
      "execution_count": null,
      "id": "09785734",
      "metadata": {
        "id": "09785734"
      },
      "outputs": [],
      "source": [
        "conditions = [\n",
        "    tweets_grouped['Date'] == \"2020\",\n",
        "    tweets_grouped['Date'] != \"2020\"\n",
        "]\n",
        "\n",
        "choices = [\"Previous election\", \"Current election\"]\n",
        "\n",
        "tweets_grouped_president['Date'] = np.select(conditions, choices, default=0)"
      ]
    },
    {
      "cell_type": "code",
      "execution_count": null,
      "id": "dceaa89b",
      "metadata": {
        "id": "dceaa89b"
      },
      "outputs": [],
      "source": [
        "conditions = [\n",
        "    tweets_grouped['Date'] == \"2020\",\n",
        "    tweets_grouped['Date'] != \"2020\"\n",
        "]\n",
        "\n",
        "choices = [\"Previous election\", \"Current election\"]\n",
        "\n",
        "tweets_grouped_president['Date'] = np.select(conditions, choices, default=0)"
      ]
    },
    {
      "cell_type": "code",
      "execution_count": null,
      "id": "fb960c56",
      "metadata": {
        "id": "fb960c56"
      },
      "outputs": [],
      "source": [
        "tweets_grouped_president[\"political_affiliation\"] = None"
      ]
    },
    {
      "cell_type": "code",
      "execution_count": null,
      "id": "26387c87",
      "metadata": {
        "scrolled": true,
        "id": "26387c87"
      },
      "outputs": [],
      "source": [
        "for i in range(len(tweets_grouped_president)):\n",
        "    if tweets_grouped_president[\"Date\"][i] == \"Previous election\":\n",
        "        if tweets_grouped_president[\"State\"][i] in rstate_2016_pres:\n",
        "            tweets_grouped_president[\"political_affiliation\"][i] = \"R\"\n",
        "        else:\n",
        "            tweets_grouped_president[\"political_affiliation\"][i] = \"D\"\n",
        "    else:\n",
        "        if tweets_grouped_president[\"State\"][i] in rstate_2020_pres:\n",
        "            tweets_grouped_president[\"political_affiliation\"][i] = \"R\"\n",
        "        else:\n",
        "            tweets_grouped_president[\"political_affiliation\"][i] = \"D\""
      ]
    },
    {
      "cell_type": "code",
      "execution_count": null,
      "id": "646679bb",
      "metadata": {
        "id": "646679bb"
      },
      "outputs": [],
      "source": [
        "tweets_grouped_president_all = tweets_grouped_president.copy()"
      ]
    },
    {
      "cell_type": "code",
      "execution_count": null,
      "id": "ceb785c3",
      "metadata": {
        "id": "ceb785c3"
      },
      "outputs": [],
      "source": [
        "tweets_grouped_president = tweets_grouped_president.groupby([\"Date\", \"political_affiliation\"]).agg({'Labels':'mean', 'Count':'sum'}).reset_index()"
      ]
    },
    {
      "cell_type": "code",
      "execution_count": null,
      "id": "0f6182bd",
      "metadata": {
        "id": "0f6182bd"
      },
      "outputs": [],
      "source": [
        "order_list = ['Previous election', 'Current election']"
      ]
    },
    {
      "cell_type": "code",
      "execution_count": null,
      "id": "238f9fb5",
      "metadata": {
        "id": "238f9fb5"
      },
      "outputs": [],
      "source": [
        "red_blue = ['#ff0000','#0000ff']\n",
        "blue_red = ['#0000ff','#ff0000']"
      ]
    },
    {
      "cell_type": "code",
      "execution_count": null,
      "id": "0f6fd459",
      "metadata": {
        "scrolled": true,
        "id": "0f6fd459",
        "outputId": "3817c5ea-340f-440c-a854-cc14a14d3d4c"
      },
      "outputs": [
        {
          "data": {
            "image/png": "[encoded data removed]",
            "text/plain": [
              "<Figure size 720x1008 with 4 Axes>"
            ]
          },
          "metadata": {
            "needs_background": "light"
          },
          "output_type": "display_data"
        }
      ],
      "source": [
        "fig, ax = plt.subplots(4)\n",
        "sns.countplot(state_df['2016'],\n",
        "              ax=ax[0],\n",
        "              palette=sns.color_palette(red_blue, 2)).set(title='Count of States by Party in 2016')\n",
        "sns.countplot(state_df['2020'],\n",
        "              ax=ax[1],\n",
        "              palette=sns.color_palette(red_blue, 2)).set(title='Count of States by Party in 2020')\n",
        "sns.barplot(x = tweets_grouped_president[\"Date\"],\n",
        "            y = tweets_grouped_president[\"Labels\"],\n",
        "            hue = tweets_grouped_president[\"political_affiliation\"],\n",
        "            order = order_list,\n",
        "            ax = ax[2],\n",
        "            palette=sns.color_palette(blue_red, 2)).set(title = \"Sentiment by Political Affiliation\", ylabel = \"Sentiment\")\n",
        "sns.violinplot(x=\"political_affiliation\",\n",
        "               y=\"Labels\",\n",
        "               hue=\"Date\",\n",
        "               data=tweets_grouped_president_all,\n",
        "               kind=\"violin\",\n",
        "               split=True,\n",
        "               height=4,\n",
        "               aspect=.7).set(title = \"Sentiment Violin Plot\", ylabel = \"Sentiment\", xlabel = \"Political Affiliation\")\n",
        "\n",
        "fig.subplots_adjust(left=0.1,\n",
        "                    bottom=0.1,\n",
        "                    right=0.9,\n",
        "                    top=0.9,\n",
        "                    wspace=0.8,\n",
        "                    hspace=0.4)\n",
        "fig.set_figwidth(10)\n",
        "fig.set_figheight(14)"
      ]
    },
    {
      "cell_type": "code",
      "execution_count": null,
      "id": "8d6e76f8",
      "metadata": {
        "id": "8d6e76f8",
        "outputId": "0dd57bcb-0302-46b8-ab3d-da6d3badbfdb"
      },
      "outputs": [
        {
          "data": {
            "text/html": [
              "<div>\n",
              "<style scoped>\n",
              "    .dataframe tbody tr th:only-of-type {\n",
              "        vertical-align: middle;\n",
              "    }\n",
              "\n",
              "    .dataframe tbody tr th {\n",
              "        vertical-align: top;\n",
              "    }\n",
              "\n",
              "    .dataframe thead th {\n",
              "        text-align: right;\n",
              "    }\n",
              "</style>\n",
              "<table border=\"1\" class=\"dataframe\">\n",
              "  <thead>\n",
              "    <tr style=\"text-align: right;\">\n",
              "      <th></th>\n",
              "      <th>Date</th>\n",
              "      <th>State</th>\n",
              "      <th>Labels</th>\n",
              "      <th>Count</th>\n",
              "      <th>political_affiliation</th>\n",
              "    </tr>\n",
              "  </thead>\n",
              "  <tbody>\n",
              "    <tr>\n",
              "      <th>0</th>\n",
              "      <td>Previous election</td>\n",
              "      <td>Alabama</td>\n",
              "      <td>0.078947</td>\n",
              "      <td>76</td>\n",
              "      <td>R</td>\n",
              "    </tr>\n",
              "    <tr>\n",
              "      <th>1</th>\n",
              "      <td>Previous election</td>\n",
              "      <td>Alaska</td>\n",
              "      <td>0.240000</td>\n",
              "      <td>25</td>\n",
              "      <td>R</td>\n",
              "    </tr>\n",
              "    <tr>\n",
              "      <th>2</th>\n",
              "      <td>Previous election</td>\n",
              "      <td>Arenal</td>\n",
              "      <td>-1.000000</td>\n",
              "      <td>1</td>\n",
              "      <td>D</td>\n",
              "    </tr>\n",
              "    <tr>\n",
              "      <th>3</th>\n",
              "      <td>Previous election</td>\n",
              "      <td>Arizona</td>\n",
              "      <td>0.093385</td>\n",
              "      <td>257</td>\n",
              "      <td>R</td>\n",
              "    </tr>\n",
              "    <tr>\n",
              "      <th>4</th>\n",
              "      <td>Previous election</td>\n",
              "      <td>Arkansas</td>\n",
              "      <td>0.190476</td>\n",
              "      <td>21</td>\n",
              "      <td>R</td>\n",
              "    </tr>\n",
              "  </tbody>\n",
              "</table>\n",
              "</div>"
            ],
            "text/plain": [
              "                Date     State    Labels  Count political_affiliation\n",
              "0  Previous election   Alabama  0.078947     76                     R\n",
              "1  Previous election    Alaska  0.240000     25                     R\n",
              "2  Previous election    Arenal -1.000000      1                     D\n",
              "3  Previous election   Arizona  0.093385    257                     R\n",
              "4  Previous election  Arkansas  0.190476     21                     R"
            ]
          },
          "execution_count": 37,
          "metadata": {},
          "output_type": "execute_result"
        }
      ],
      "source": [
        "tweets_grouped_president_all.head()"
      ]
    },
    {
      "cell_type": "code",
      "execution_count": null,
      "id": "41b6e3fb",
      "metadata": {
        "id": "41b6e3fb"
      },
      "outputs": [],
      "source": [
        "#rng = np.random.default_rng()"
      ]
    },
    {
      "cell_type": "code",
      "execution_count": null,
      "id": "62e4d798",
      "metadata": {
        "id": "62e4d798"
      },
      "outputs": [],
      "source": [
        "red_2016 = tweets_grouped_president_all[(tweets_grouped_president_all[\"Date\"] == \"Previous election\") & (tweets_grouped_president_all[\"political_affiliation\"] == \"R\")][\"Labels\"]\n",
        "blue_2016 = tweets_grouped_president_all[(tweets_grouped_president_all[\"Date\"] == \"Previous election\") & (tweets_grouped_president_all[\"political_affiliation\"] == \"D\")][\"Labels\"]"
      ]
    },
    {
      "cell_type": "code",
      "execution_count": null,
      "id": "da4ceec9",
      "metadata": {
        "id": "da4ceec9",
        "outputId": "3d63f5e2-c171-48c2-f287-aec9932a73b8"
      },
      "outputs": [
        {
          "data": {
            "text/plain": [
              "Ttest_indResult(statistic=1.804211271015338, pvalue=0.07639136281474099)"
            ]
          },
          "execution_count": 40,
          "metadata": {},
          "output_type": "execute_result"
        }
      ],
      "source": [
        "scipy.stats.ttest_ind(red_2016, blue_2016)"
      ]
    },
    {
      "cell_type": "code",
      "execution_count": null,
      "id": "deea0530",
      "metadata": {
        "id": "deea0530"
      },
      "outputs": [],
      "source": [
        "red_2020 = tweets_grouped_president_all[(tweets_grouped_president_all[\"Date\"] == \"Current election\") & (tweets_grouped_president_all[\"political_affiliation\"] == \"R\")][\"Labels\"]\n",
        "blue_2020 = tweets_grouped_president_all[(tweets_grouped_president_all[\"Date\"] == \"Current election\") & (tweets_grouped_president_all[\"political_affiliation\"] == \"D\")][\"Labels\"]"
      ]
    },
    {
      "cell_type": "code",
      "execution_count": null,
      "id": "121a2526",
      "metadata": {
        "id": "121a2526",
        "outputId": "c2e9b8f1-b5c5-41fc-c787-71cb9be4b94f"
      },
      "outputs": [
        {
          "data": {
            "text/plain": [
              "Ttest_indResult(statistic=-1.0284874686225798, pvalue=0.30587893617478396)"
            ]
          },
          "execution_count": 42,
          "metadata": {},
          "output_type": "execute_result"
        }
      ],
      "source": [
        "scipy.stats.ttest_ind(red_2020, blue_2020)"
      ]
    },
    {
      "cell_type": "markdown",
      "id": "683d29cb",
      "metadata": {
        "id": "683d29cb"
      },
      "source": [
        "### Governors"
      ]
    },
    {
      "cell_type": "code",
      "execution_count": null,
      "id": "87e23809",
      "metadata": {
        "id": "87e23809"
      },
      "outputs": [],
      "source": [
        "# get the response in the form of html\n",
        "wikiurl=\"https://en.wikipedia.org/wiki/List_of_current_United_States_governors\"\n",
        "table_class=\"wikitable sortable jquery-tablesorter\"\n",
        "response=requests.get(wikiurl)"
      ]
    },
    {
      "cell_type": "code",
      "execution_count": null,
      "id": "e40adb62",
      "metadata": {
        "id": "e40adb62"
      },
      "outputs": [],
      "source": [
        "soup = BeautifulSoup(response.text, 'html.parser')\n",
        "governors=soup.find('table',{'class':\"wikitable\"})"
      ]
    },
    {
      "cell_type": "code",
      "execution_count": null,
      "id": "aa40f105",
      "metadata": {
        "id": "aa40f105"
      },
      "outputs": [],
      "source": [
        "governors=pd.read_html(str(governors)) #into list\n",
        "governors=pd.DataFrame(governors[0]) #into dataframe"
      ]
    },
    {
      "cell_type": "code",
      "execution_count": null,
      "id": "1dfd354e",
      "metadata": {
        "id": "1dfd354e"
      },
      "outputs": [],
      "source": [
        "governors.columns = governors.columns.droplevel(0)"
      ]
    },
    {
      "cell_type": "code",
      "execution_count": null,
      "id": "074bc641",
      "metadata": {
        "id": "074bc641"
      },
      "outputs": [],
      "source": [
        "governors = governors[[\"State\", \"Party.1\"]]"
      ]
    },
    {
      "cell_type": "code",
      "execution_count": null,
      "id": "29684f96",
      "metadata": {
        "id": "29684f96"
      },
      "outputs": [],
      "source": [
        "governors['Party.1'] = governors['Party.1'].replace(['Democratic–Farmer–Labor'],'Democratic')\n",
        "governors['Party.1'] = governors['Party.1'].replace(['Republican[note 1]'],'Republican')"
      ]
    },
    {
      "cell_type": "code",
      "execution_count": null,
      "id": "7cd104ee",
      "metadata": {
        "id": "7cd104ee"
      },
      "outputs": [],
      "source": [
        "tweets_grouped_state = tweets_grouped.copy()"
      ]
    },
    {
      "cell_type": "code",
      "execution_count": null,
      "id": "6bbe1379",
      "metadata": {
        "id": "6bbe1379"
      },
      "outputs": [],
      "source": [
        "tweets_grouped_state = tweets_grouped_state[[\"State\", \"Labels\"]].groupby(\"State\").mean().reset_index()"
      ]
    },
    {
      "cell_type": "code",
      "execution_count": null,
      "id": "a1095896",
      "metadata": {
        "scrolled": true,
        "id": "a1095896"
      },
      "outputs": [],
      "source": [
        "governor_sentiment = governors.merge(tweets_grouped_state, on = \"State\", how = \"left\")"
      ]
    },
    {
      "cell_type": "code",
      "execution_count": null,
      "id": "ee707a35",
      "metadata": {
        "id": "ee707a35"
      },
      "outputs": [],
      "source": [
        "governor_sentiment.dropna(inplace = True)"
      ]
    },
    {
      "cell_type": "code",
      "execution_count": null,
      "id": "c91381f3",
      "metadata": {
        "scrolled": true,
        "id": "c91381f3",
        "outputId": "b8fff626-3219-4455-b39b-e29dacde0e58"
      },
      "outputs": [
        {
          "data": {
            "image/png": "[encoded data removed]",
            "text/plain": [
              "<Figure size 720x1008 with 3 Axes>"
            ]
          },
          "metadata": {
            "needs_background": "light"
          },
          "output_type": "display_data"
        }
      ],
      "source": [
        "fig, ax = plt.subplots(3)\n",
        "sns.countplot(governors['Party.1'],\n",
        "              ax = ax[0],\n",
        "              palette=sns.color_palette(red_blue, 2)).set(xlabel = \"Party\",\n",
        "                              title = \"Count of States by Governor Affiliation\")\n",
        "sns.barplot(x = governor_sentiment['Party.1'],\n",
        "            y = governor_sentiment.Labels,\n",
        "            ax = ax[1],\n",
        "            palette=sns.color_palette(red_blue, 2)).set(title = \"Sentiment by Governor Affiliation\",\n",
        "                            xlabel = \"Party\",\n",
        "                            ylabel = \"Sentiment\")\n",
        "sns.violinplot(y = governor_sentiment[\"Labels\"],\n",
        "               x = governor_sentiment[\"Party.1\"],\n",
        "               ax = ax[2],\n",
        "               palette=sns.color_palette(red_blue, 2)).set(title = \"Sentiment Violin Plot\",\n",
        "                               xlabel = \"Party\",\n",
        "                               ylabel = \"Sentiment\")\n",
        "\n",
        "fig.subplots_adjust(left=0.1,\n",
        "                    bottom=0.1,\n",
        "                    right=0.9,\n",
        "                    top=0.9,\n",
        "                    wspace=0.8,\n",
        "                    hspace=0.4)\n",
        "fig.set_figwidth(10)\n",
        "fig.set_figheight(14)"
      ]
    },
    {
      "cell_type": "code",
      "execution_count": null,
      "id": "1e9b00f4",
      "metadata": {
        "scrolled": true,
        "id": "1e9b00f4",
        "outputId": "57a7b01a-c459-43bb-acb8-0da6c4ad531e"
      },
      "outputs": [
        {
          "data": {
            "text/html": [
              "<div>\n",
              "<style scoped>\n",
              "    .dataframe tbody tr th:only-of-type {\n",
              "        vertical-align: middle;\n",
              "    }\n",
              "\n",
              "    .dataframe tbody tr th {\n",
              "        vertical-align: top;\n",
              "    }\n",
              "\n",
              "    .dataframe thead th {\n",
              "        text-align: right;\n",
              "    }\n",
              "</style>\n",
              "<table border=\"1\" class=\"dataframe\">\n",
              "  <thead>\n",
              "    <tr style=\"text-align: right;\">\n",
              "      <th></th>\n",
              "      <th>State</th>\n",
              "      <th>Party.1</th>\n",
              "      <th>Labels</th>\n",
              "    </tr>\n",
              "  </thead>\n",
              "  <tbody>\n",
              "    <tr>\n",
              "      <th>0</th>\n",
              "      <td>Alabama</td>\n",
              "      <td>Republican</td>\n",
              "      <td>0.299784</td>\n",
              "    </tr>\n",
              "    <tr>\n",
              "      <th>1</th>\n",
              "      <td>Alaska</td>\n",
              "      <td>Republican</td>\n",
              "      <td>0.487743</td>\n",
              "    </tr>\n",
              "    <tr>\n",
              "      <th>2</th>\n",
              "      <td>Arizona</td>\n",
              "      <td>Republican</td>\n",
              "      <td>0.172021</td>\n",
              "    </tr>\n",
              "    <tr>\n",
              "      <th>3</th>\n",
              "      <td>Arkansas</td>\n",
              "      <td>Republican</td>\n",
              "      <td>0.253728</td>\n",
              "    </tr>\n",
              "    <tr>\n",
              "      <th>4</th>\n",
              "      <td>California</td>\n",
              "      <td>Democratic</td>\n",
              "      <td>0.370379</td>\n",
              "    </tr>\n",
              "    <tr>\n",
              "      <th>5</th>\n",
              "      <td>Colorado</td>\n",
              "      <td>Democratic</td>\n",
              "      <td>0.365240</td>\n",
              "    </tr>\n",
              "    <tr>\n",
              "      <th>7</th>\n",
              "      <td>Delaware</td>\n",
              "      <td>Democratic</td>\n",
              "      <td>0.408120</td>\n",
              "    </tr>\n",
              "    <tr>\n",
              "      <th>8</th>\n",
              "      <td>Florida</td>\n",
              "      <td>Republican</td>\n",
              "      <td>0.173856</td>\n",
              "    </tr>\n",
              "    <tr>\n",
              "      <th>9</th>\n",
              "      <td>Georgia</td>\n",
              "      <td>Republican</td>\n",
              "      <td>0.300910</td>\n",
              "    </tr>\n",
              "    <tr>\n",
              "      <th>10</th>\n",
              "      <td>Hawaii</td>\n",
              "      <td>Democratic</td>\n",
              "      <td>0.250242</td>\n",
              "    </tr>\n",
              "    <tr>\n",
              "      <th>12</th>\n",
              "      <td>Illinois</td>\n",
              "      <td>Democratic</td>\n",
              "      <td>0.311687</td>\n",
              "    </tr>\n",
              "    <tr>\n",
              "      <th>13</th>\n",
              "      <td>Indiana</td>\n",
              "      <td>Republican</td>\n",
              "      <td>0.414552</td>\n",
              "    </tr>\n",
              "    <tr>\n",
              "      <th>14</th>\n",
              "      <td>Iowa</td>\n",
              "      <td>Republican</td>\n",
              "      <td>0.360800</td>\n",
              "    </tr>\n",
              "    <tr>\n",
              "      <th>15</th>\n",
              "      <td>Kansas</td>\n",
              "      <td>Democratic</td>\n",
              "      <td>0.394152</td>\n",
              "    </tr>\n",
              "    <tr>\n",
              "      <th>16</th>\n",
              "      <td>Kentucky</td>\n",
              "      <td>Democratic</td>\n",
              "      <td>0.393739</td>\n",
              "    </tr>\n",
              "    <tr>\n",
              "      <th>17</th>\n",
              "      <td>Louisiana</td>\n",
              "      <td>Democratic</td>\n",
              "      <td>0.236652</td>\n",
              "    </tr>\n",
              "    <tr>\n",
              "      <th>19</th>\n",
              "      <td>Maryland</td>\n",
              "      <td>Republican</td>\n",
              "      <td>0.552047</td>\n",
              "    </tr>\n",
              "    <tr>\n",
              "      <th>20</th>\n",
              "      <td>Massachusetts</td>\n",
              "      <td>Republican</td>\n",
              "      <td>0.430925</td>\n",
              "    </tr>\n",
              "    <tr>\n",
              "      <th>21</th>\n",
              "      <td>Michigan</td>\n",
              "      <td>Democratic</td>\n",
              "      <td>0.310848</td>\n",
              "    </tr>\n",
              "    <tr>\n",
              "      <th>23</th>\n",
              "      <td>Mississippi</td>\n",
              "      <td>Republican</td>\n",
              "      <td>0.090278</td>\n",
              "    </tr>\n",
              "    <tr>\n",
              "      <th>24</th>\n",
              "      <td>Missouri</td>\n",
              "      <td>Republican</td>\n",
              "      <td>0.405863</td>\n",
              "    </tr>\n",
              "    <tr>\n",
              "      <th>27</th>\n",
              "      <td>Nevada</td>\n",
              "      <td>Democratic</td>\n",
              "      <td>0.145202</td>\n",
              "    </tr>\n",
              "    <tr>\n",
              "      <th>29</th>\n",
              "      <td>New Jersey</td>\n",
              "      <td>Democratic</td>\n",
              "      <td>0.314484</td>\n",
              "    </tr>\n",
              "    <tr>\n",
              "      <th>30</th>\n",
              "      <td>New Mexico</td>\n",
              "      <td>Democratic</td>\n",
              "      <td>0.497712</td>\n",
              "    </tr>\n",
              "    <tr>\n",
              "      <th>31</th>\n",
              "      <td>New York</td>\n",
              "      <td>Democratic</td>\n",
              "      <td>0.422422</td>\n",
              "    </tr>\n",
              "    <tr>\n",
              "      <th>32</th>\n",
              "      <td>North Carolina</td>\n",
              "      <td>Democratic</td>\n",
              "      <td>0.320950</td>\n",
              "    </tr>\n",
              "    <tr>\n",
              "      <th>33</th>\n",
              "      <td>North Dakota</td>\n",
              "      <td>Republican</td>\n",
              "      <td>1.000000</td>\n",
              "    </tr>\n",
              "    <tr>\n",
              "      <th>34</th>\n",
              "      <td>Ohio</td>\n",
              "      <td>Republican</td>\n",
              "      <td>0.353094</td>\n",
              "    </tr>\n",
              "    <tr>\n",
              "      <th>35</th>\n",
              "      <td>Oklahoma</td>\n",
              "      <td>Republican</td>\n",
              "      <td>0.353294</td>\n",
              "    </tr>\n",
              "    <tr>\n",
              "      <th>36</th>\n",
              "      <td>Oregon</td>\n",
              "      <td>Democratic</td>\n",
              "      <td>0.324741</td>\n",
              "    </tr>\n",
              "    <tr>\n",
              "      <th>37</th>\n",
              "      <td>Pennsylvania</td>\n",
              "      <td>Democratic</td>\n",
              "      <td>0.328264</td>\n",
              "    </tr>\n",
              "    <tr>\n",
              "      <th>39</th>\n",
              "      <td>South Carolina</td>\n",
              "      <td>Republican</td>\n",
              "      <td>0.183138</td>\n",
              "    </tr>\n",
              "    <tr>\n",
              "      <th>40</th>\n",
              "      <td>South Dakota</td>\n",
              "      <td>Republican</td>\n",
              "      <td>0.642857</td>\n",
              "    </tr>\n",
              "    <tr>\n",
              "      <th>41</th>\n",
              "      <td>Tennessee</td>\n",
              "      <td>Republican</td>\n",
              "      <td>0.268673</td>\n",
              "    </tr>\n",
              "    <tr>\n",
              "      <th>42</th>\n",
              "      <td>Texas</td>\n",
              "      <td>Republican</td>\n",
              "      <td>0.286491</td>\n",
              "    </tr>\n",
              "    <tr>\n",
              "      <th>43</th>\n",
              "      <td>Utah</td>\n",
              "      <td>Republican</td>\n",
              "      <td>0.270412</td>\n",
              "    </tr>\n",
              "    <tr>\n",
              "      <th>45</th>\n",
              "      <td>Virginia</td>\n",
              "      <td>Republican</td>\n",
              "      <td>0.315215</td>\n",
              "    </tr>\n",
              "    <tr>\n",
              "      <th>46</th>\n",
              "      <td>Washington</td>\n",
              "      <td>Democratic</td>\n",
              "      <td>0.491283</td>\n",
              "    </tr>\n",
              "    <tr>\n",
              "      <th>47</th>\n",
              "      <td>West Virginia</td>\n",
              "      <td>Republican</td>\n",
              "      <td>0.460425</td>\n",
              "    </tr>\n",
              "    <tr>\n",
              "      <th>48</th>\n",
              "      <td>Wisconsin</td>\n",
              "      <td>Democratic</td>\n",
              "      <td>0.357400</td>\n",
              "    </tr>\n",
              "    <tr>\n",
              "      <th>49</th>\n",
              "      <td>Wyoming</td>\n",
              "      <td>Republican</td>\n",
              "      <td>0.706924</td>\n",
              "    </tr>\n",
              "  </tbody>\n",
              "</table>\n",
              "</div>"
            ],
            "text/plain": [
              "             State     Party.1    Labels\n",
              "0          Alabama  Republican  0.299784\n",
              "1           Alaska  Republican  0.487743\n",
              "2          Arizona  Republican  0.172021\n",
              "3         Arkansas  Republican  0.253728\n",
              "4       California  Democratic  0.370379\n",
              "5         Colorado  Democratic  0.365240\n",
              "7         Delaware  Democratic  0.408120\n",
              "8          Florida  Republican  0.173856\n",
              "9          Georgia  Republican  0.300910\n",
              "10          Hawaii  Democratic  0.250242\n",
              "12        Illinois  Democratic  0.311687\n",
              "13         Indiana  Republican  0.414552\n",
              "14            Iowa  Republican  0.360800\n",
              "15          Kansas  Democratic  0.394152\n",
              "16        Kentucky  Democratic  0.393739\n",
              "17       Louisiana  Democratic  0.236652\n",
              "19        Maryland  Republican  0.552047\n",
              "20   Massachusetts  Republican  0.430925\n",
              "21        Michigan  Democratic  0.310848\n",
              "23     Mississippi  Republican  0.090278\n",
              "24        Missouri  Republican  0.405863\n",
              "27          Nevada  Democratic  0.145202\n",
              "29      New Jersey  Democratic  0.314484\n",
              "30      New Mexico  Democratic  0.497712\n",
              "31        New York  Democratic  0.422422\n",
              "32  North Carolina  Democratic  0.320950\n",
              "33    North Dakota  Republican  1.000000\n",
              "34            Ohio  Republican  0.353094\n",
              "35        Oklahoma  Republican  0.353294\n",
              "36          Oregon  Democratic  0.324741\n",
              "37    Pennsylvania  Democratic  0.328264\n",
              "39  South Carolina  Republican  0.183138\n",
              "40    South Dakota  Republican  0.642857\n",
              "41       Tennessee  Republican  0.268673\n",
              "42           Texas  Republican  0.286491\n",
              "43            Utah  Republican  0.270412\n",
              "45        Virginia  Republican  0.315215\n",
              "46      Washington  Democratic  0.491283\n",
              "47   West Virginia  Republican  0.460425\n",
              "48       Wisconsin  Democratic  0.357400\n",
              "49         Wyoming  Republican  0.706924"
            ]
          },
          "execution_count": 54,
          "metadata": {},
          "output_type": "execute_result"
        }
      ],
      "source": [
        "governor_sentiment"
      ]
    },
    {
      "cell_type": "code",
      "execution_count": null,
      "id": "a53fcd8b",
      "metadata": {
        "id": "a53fcd8b"
      },
      "outputs": [],
      "source": [
        "governor_r = governor_sentiment[governor_sentiment[\"Party.1\"] == \"Republican\"][\"Labels\"]\n",
        "governor_d = governor_sentiment[governor_sentiment[\"Party.1\"] == \"Democratic\"][\"Labels\"]"
      ]
    },
    {
      "cell_type": "code",
      "execution_count": null,
      "id": "d5403c44",
      "metadata": {
        "id": "d5403c44",
        "outputId": "7248248d-947c-4f97-fcb9-6eef2ec5e808"
      },
      "outputs": [
        {
          "data": {
            "text/plain": [
              "Ttest_indResult(statistic=0.6897849980553925, pvalue=0.4944137002922502)"
            ]
          },
          "execution_count": 56,
          "metadata": {},
          "output_type": "execute_result"
        }
      ],
      "source": [
        "scipy.stats.ttest_ind(governor_r, governor_d)"
      ]
    },
    {
      "cell_type": "markdown",
      "id": "9d2653b2",
      "metadata": {
        "id": "9d2653b2"
      },
      "source": [
        "### State Legislature Majority"
      ]
    },
    {
      "cell_type": "code",
      "execution_count": null,
      "id": "bb5b4a2f",
      "metadata": {
        "id": "bb5b4a2f"
      },
      "outputs": [],
      "source": [
        "# https://ballotpedia.org/Election_results,_2021:_Party_control_of_state_legislatures\n",
        "\n",
        "wikiurl=\"https://ballotpedia.org/Election_results,_2021:_Party_control_of_state_legislatures\"\n",
        "table_class=\"marqueetable sortable jquery-tablesorter\"\n",
        "response=requests.get(wikiurl)"
      ]
    },
    {
      "cell_type": "code",
      "execution_count": null,
      "id": "2d3bbb25",
      "metadata": {
        "id": "2d3bbb25"
      },
      "outputs": [],
      "source": [
        "soup = BeautifulSoup(response.text, 'html.parser')"
      ]
    },
    {
      "cell_type": "code",
      "execution_count": null,
      "id": "20565a76",
      "metadata": {
        "id": "20565a76"
      },
      "outputs": [],
      "source": [
        "state_legislature =soup.find('table',{'class':\"marqueetable\"})"
      ]
    },
    {
      "cell_type": "code",
      "execution_count": null,
      "id": "777de3ea",
      "metadata": {
        "id": "777de3ea"
      },
      "outputs": [],
      "source": [
        "state_legislature=pd.read_html(str(state_legislature)) #into list\n",
        "state_legislature=pd.DataFrame(state_legislature[0]) #into dataframe"
      ]
    },
    {
      "cell_type": "code",
      "execution_count": null,
      "id": "33113b9c",
      "metadata": {
        "id": "33113b9c"
      },
      "outputs": [],
      "source": [
        "state_legislature.columns = state_legislature.columns.droplevel(0).droplevel(0)\n",
        "state_legislature = state_legislature[[\"State\", \"State Senate\", \"State House\"]]"
      ]
    },
    {
      "cell_type": "code",
      "execution_count": null,
      "id": "b0c9ab4c",
      "metadata": {
        "id": "b0c9ab4c"
      },
      "outputs": [],
      "source": [
        "state_legislature = state_legislature.loc[:,~state_legislature.columns.duplicated(keep = 'last')]"
      ]
    },
    {
      "cell_type": "code",
      "execution_count": null,
      "id": "9a6efd3e",
      "metadata": {
        "id": "9a6efd3e",
        "outputId": "1a1e6b27-6de0-44ab-d772-7ca3d245aed7"
      },
      "outputs": [
        {
          "data": {
            "text/html": [
              "<div>\n",
              "<style scoped>\n",
              "    .dataframe tbody tr th:only-of-type {\n",
              "        vertical-align: middle;\n",
              "    }\n",
              "\n",
              "    .dataframe tbody tr th {\n",
              "        vertical-align: top;\n",
              "    }\n",
              "\n",
              "    .dataframe thead th {\n",
              "        text-align: right;\n",
              "    }\n",
              "</style>\n",
              "<table border=\"1\" class=\"dataframe\">\n",
              "  <thead>\n",
              "    <tr style=\"text-align: right;\">\n",
              "      <th></th>\n",
              "      <th>State</th>\n",
              "      <th>State Senate</th>\n",
              "      <th>State House</th>\n",
              "    </tr>\n",
              "  </thead>\n",
              "  <tbody>\n",
              "    <tr>\n",
              "      <th>0</th>\n",
              "      <td>Alabama</td>\n",
              "      <td>Republican</td>\n",
              "      <td>Republican</td>\n",
              "    </tr>\n",
              "    <tr>\n",
              "      <th>1</th>\n",
              "      <td>Alaska</td>\n",
              "      <td>Republican</td>\n",
              "      <td>Split</td>\n",
              "    </tr>\n",
              "    <tr>\n",
              "      <th>2</th>\n",
              "      <td>Arizona</td>\n",
              "      <td>Republican</td>\n",
              "      <td>Republican</td>\n",
              "    </tr>\n",
              "    <tr>\n",
              "      <th>3</th>\n",
              "      <td>Arkansas</td>\n",
              "      <td>Republican</td>\n",
              "      <td>Republican</td>\n",
              "    </tr>\n",
              "    <tr>\n",
              "      <th>4</th>\n",
              "      <td>California</td>\n",
              "      <td>Democratic</td>\n",
              "      <td>Democratic</td>\n",
              "    </tr>\n",
              "  </tbody>\n",
              "</table>\n",
              "</div>"
            ],
            "text/plain": [
              "        State State Senate State House\n",
              "0     Alabama   Republican  Republican\n",
              "1      Alaska   Republican       Split\n",
              "2     Arizona   Republican  Republican\n",
              "3    Arkansas   Republican  Republican\n",
              "4  California   Democratic  Democratic"
            ]
          },
          "execution_count": 63,
          "metadata": {},
          "output_type": "execute_result"
        }
      ],
      "source": [
        "state_legislature.head()"
      ]
    },
    {
      "cell_type": "code",
      "execution_count": null,
      "id": "4c9a44ce",
      "metadata": {
        "id": "4c9a44ce"
      },
      "outputs": [],
      "source": [
        "state_senate = state_legislature[[\"State\", \"State Senate\"]]\n",
        "state_house = state_legislature[[\"State\", \"State House\"]]"
      ]
    },
    {
      "cell_type": "code",
      "execution_count": null,
      "id": "cbe9ed5b",
      "metadata": {
        "id": "cbe9ed5b"
      },
      "outputs": [],
      "source": [
        "state_senate_sentiment = state_senate.merge(tweets_grouped_state, on = \"State\", how = \"left\").dropna()\n",
        "state_house_sentiment = state_house.merge(tweets_grouped_state, on = \"State\", how = \"left\").dropna()"
      ]
    },
    {
      "cell_type": "code",
      "execution_count": null,
      "id": "ea1d17da",
      "metadata": {
        "id": "ea1d17da"
      },
      "outputs": [],
      "source": [
        "red_grey_blue = ['#ff0000','darkgray','#0000ff']"
      ]
    },
    {
      "cell_type": "code",
      "execution_count": null,
      "id": "ebce44ef",
      "metadata": {
        "scrolled": true,
        "id": "ebce44ef",
        "outputId": "24556e23-ef49-4d4b-f48a-737f108ef2b2"
      },
      "outputs": [
        {
          "data": {
            "image/png": "[encoded data removed]",
            "text/plain": [
              "<Figure size 720x1008 with 6 Axes>"
            ]
          },
          "metadata": {
            "needs_background": "light"
          },
          "output_type": "display_data"
        }
      ],
      "source": [
        "fig, ax = plt.subplots(3,2)\n",
        "sns.countplot(state_legislature['State Senate'],\n",
        "              ax=ax[0,0],\n",
        "              palette=sns.color_palette(red_blue, 2)).set(title = \"Count of States by State Senate Party\")\n",
        "sns.countplot(state_legislature['State House'],\n",
        "              ax=ax[0,1],\n",
        "              palette = sns.color_palette(red_grey_blue, 3)).set(title = \"Count of States by State House Party\")\n",
        "sns.barplot(x = state_senate_sentiment[\"State Senate\"],\n",
        "            y = state_senate_sentiment[\"Labels\"],\n",
        "            ax = ax[1,0],\n",
        "            palette=sns.color_palette(red_blue, 2)).set(title = \"Sentiment by State Senate Party\",\n",
        "                              ylabel = \"Sentiment\")\n",
        "sns.barplot(x = state_house_sentiment[\"State House\"],\n",
        "            y = state_house_sentiment[\"Labels\"],\n",
        "            ax=ax[1,1],\n",
        "            palette = sns.color_palette(red_grey_blue, 3)).set(title = \"Sentiment by State House Party\",\n",
        "                            ylabel = \"Sentiment\")\n",
        "sns.violinplot(x = state_senate_sentiment[\"State Senate\"],\n",
        "               y = state_senate_sentiment[\"Labels\"],\n",
        "               ax = ax[2,0],\n",
        "               palette=sns.color_palette(red_blue, 2)).set(title = \"Sentiment Violin Plot - State Senate\",\n",
        "                                 ylabel = \"Sentiment\")\n",
        "sns.violinplot(x = state_house_sentiment[\"State House\"],\n",
        "               y = state_house_sentiment[\"Labels\"],\n",
        "               ax=ax[2,1],\n",
        "               palette = sns.color_palette(red_grey_blue, 3)).set(title = \"Sentiment Violin Plot - State House\",\n",
        "                               ylabel = \"Sentiment\")\n",
        "fig.subplots_adjust(left=0.1,\n",
        "                    bottom=0.1,\n",
        "                    right=0.9,\n",
        "                    top=0.9,\n",
        "                    wspace=0.4,\n",
        "                    hspace=0.4)\n",
        "fig.set_figwidth(10)\n",
        "fig.set_figheight(14)"
      ]
    },
    {
      "cell_type": "code",
      "execution_count": null,
      "id": "b766da7f",
      "metadata": {
        "id": "b766da7f"
      },
      "outputs": [],
      "source": [
        "senate_red = state_senate_sentiment[state_senate_sentiment[\"State Senate\"] == \"Republican\"][\"Labels\"]\n",
        "senate_blue = state_senate_sentiment[state_senate_sentiment[\"State Senate\"] == \"Democratic\"][\"Labels\"]"
      ]
    },
    {
      "cell_type": "code",
      "execution_count": null,
      "id": "63555649",
      "metadata": {
        "id": "63555649",
        "outputId": "cbfcaef4-aad5-486b-c6c1-dd9a0138a9fc"
      },
      "outputs": [
        {
          "data": {
            "text/plain": [
              "Ttest_indResult(statistic=-0.13944006240994453, pvalue=0.8898200242303544)"
            ]
          },
          "execution_count": 69,
          "metadata": {},
          "output_type": "execute_result"
        }
      ],
      "source": [
        "scipy.stats.ttest_ind(senate_red, senate_blue)"
      ]
    },
    {
      "cell_type": "code",
      "execution_count": null,
      "id": "89b0f9fb",
      "metadata": {
        "id": "89b0f9fb"
      },
      "outputs": [],
      "source": [
        "house_red = state_house_sentiment[state_house_sentiment[\"State House\"] == \"Republican\"][\"Labels\"]\n",
        "house_blue = state_house_sentiment[state_house_sentiment[\"State House\"] == \"Democratic\"][\"Labels\"]"
      ]
    },
    {
      "cell_type": "code",
      "execution_count": null,
      "id": "49979a1a",
      "metadata": {
        "id": "49979a1a",
        "outputId": "06939cc2-546d-45a5-f7f4-fbbbcab3f7fc"
      },
      "outputs": [
        {
          "data": {
            "text/plain": [
              "Ttest_indResult(statistic=-0.33019576473630513, pvalue=0.7430656139410645)"
            ]
          },
          "execution_count": 71,
          "metadata": {},
          "output_type": "execute_result"
        }
      ],
      "source": [
        "scipy.stats.ttest_ind(house_red, house_blue)"
      ]
    },
    {
      "cell_type": "code",
      "execution_count": null,
      "id": "cf8d82e6",
      "metadata": {
        "id": "cf8d82e6",
        "outputId": "720f4bc2-0552-4208-9180-9f9b0b105d12"
      },
      "outputs": [
        {
          "data": {
            "text/plain": [
              "'1.7.3'"
            ]
          },
          "execution_count": 72,
          "metadata": {},
          "output_type": "execute_result"
        }
      ],
      "source": [
        "scipy.version.version\n"
      ]
    }
  ],
  "metadata": {
    "kernelspec": {
      "display_name": "Python 3 (ipykernel)",
      "language": "python",
      "name": "python3"
    },
    "language_info": {
      "codemirror_mode": {
        "name": "ipython",
        "version": 3
      },
      "file_extension": ".py",
      "mimetype": "text/x-python",
      "name": "python",
      "nbconvert_exporter": "python",
      "pygments_lexer": "ipython3",
      "version": "3.9.7"
    },
    "colab": {
      "provenance": []
    }
  },
  "nbformat": 4,
  "nbformat_minor": 5
}