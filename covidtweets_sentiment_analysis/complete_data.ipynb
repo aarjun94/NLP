{
  "cells": [
    {
      "cell_type": "code",
      "execution_count": null,
      "metadata": {
        "id": "8WV4h06Np37I"
      },
      "outputs": [],
      "source": [
        "import snscrape.modules.twitter as sntwitter\n",
        "import pandas as pd\n",
        "from datetime import date, timedelta, datetime\n",
        "import re\n",
        "import concurrent.futures"
      ]
    },
    {
      "cell_type": "code",
      "execution_count": null,
      "metadata": {
        "id": "IiQYmC2Up37M"
      },
      "outputs": [],
      "source": [
        "# Setting variables to be used below\n",
        "maxTweets = 10\n",
        "\n",
        "search_phrases = [\"CovidVaccine\",\n",
        "                  \"COVIDVaccine\",\n",
        "                  \"COVIDVaccines\",\n",
        "                  \"vaccinedreams\",\n",
        "                  \"GetVaccinated\",\n",
        "                  \"vaccinate\",\n",
        "                  \"vaccines\",\n",
        "                  \"COVID19Vaccine\",\n",
        "                  \"vaccinated\",\n",
        "                  \"VaccineApartheid\",\n",
        "                  \"vaccine\",\n",
        "                  \"Vaccine\",\n",
        "                  \"VaccinateAll58\",\n",
        "                  \"CovidVaccines\",\n",
        "                  \"COVID19vaccine\",\n",
        "                  \"VaccineDreams\",\n",
        "                  \"vaccinehesitancy\",\n",
        "                  \"GetVaccinatedNow\",\n",
        "                  \"modernavaccine\",\n",
        "                  \"FullyVaccinated\",\n",
        "                  \"COVIDvaccines\",\n",
        "                  \"EndVaccineApartheid\",\n",
        "                  \"VaccinesWork\",\n",
        "                  \"VaccineConfidence\",\n",
        "                  \"COVID19Vaccines\",\n",
        "                  \"COVIDVaccinesSaveLives\",\n",
        "                  \"vaccinedeliberation\",\n",
        "                  \"VaccinateALL58\",\n",
        "                  \"freethevaccine\",\n",
        "                  \"COVID19Vaccination\",\n",
        "                  \"Vaccin8\",\n",
        "                  \"COVIDvaccine\",\n",
        "                  \"VaccinesSaveLives\",\n",
        "                  \"getvaccinated\",\n",
        "                  \"PleaseGetVaccinated\",\n",
        "                  \"Vaccines\",\n",
        "                  \"vaccinepassports\",\n",
        "                  \"vaccinatedconnections\",\n",
        "                  \"coronavirusvaccine\",\n",
        "                  \"ModernaVaccine\",\n",
        "                  \"TakeTheVaccine\",\n",
        "                  \"vaccination\",\n",
        "                  \"VaccineEquityNow\",\n",
        "                  \"VaccinEquity\",\n",
        "                  \"VaccinatetheWorld\",\n",
        "                  \"vaccinesforall\",\n",
        "                  \"thepeoplesvaccine\",\n",
        "                  \"vaccinatetheworld\",\n",
        "                  \"vaccineequity\",\n",
        "                  \"mRNAvaccines\",\n",
        "                  \"ivaccinatebecause\",\n",
        "                  \"Covidvaccine\",\n",
        "                  \"VaccineEquity\",\n",
        "                  \"COVIDVaccination\"]"
      ]
    },
    {
      "cell_type": "code",
      "execution_count": null,
      "metadata": {
        "id": "zMVE8lVTp37N"
      },
      "outputs": [],
      "source": [
        "tweets_list = []\n",
        "tweet_id_list = []\n",
        "\n",
        "def twitter(phrase):\n",
        "    startdate = date.today() - timedelta(days = 766)\n",
        "    while True:\n",
        "        enddate = (startdate + timedelta(days=1))\n",
        "        if enddate == date.today():\n",
        "            break\n",
        "        x = 0\n",
        "        for tweet in sntwitter.TwitterSearchScraper(phrase + ' since:' + str(startdate) + ' until:' + str(enddate)).get_items():\n",
        "            if x>=maxTweets:\n",
        "                break\n",
        "            if tweet.lang == \"en\":\n",
        "                if tweet.coordinates == None:\n",
        "                    tweet.coordinates = \"\"\n",
        "\n",
        "                if tweet.place == None:\n",
        "                    tweet.place =  \"\"\n",
        "\n",
        "                tweet.user.location = re.sub(r'\\s{2,}', '', tweet.user.location)\n",
        "\n",
        "                if tweet.id not in tweet_id_list:\n",
        "                    tweets_list.append([phrase,\n",
        "                                        tweet.date,\n",
        "                                        tweet.id,\n",
        "                                        tweet.content,\n",
        "                                        tweet.user.username,\n",
        "                                        tweet.user.location,\n",
        "                                        tweet.place,\n",
        "                                        tweet.coordinates,\n",
        "                                        tweet.user.verified,\n",
        "                                        tweet.user.followersCount,\n",
        "                                        tweet.retweetCount,\n",
        "                                        tweet.lang])\n",
        "                    tweet_id_list.append(tweet.id)\n",
        "                    x += 1\n",
        "        startdate += timedelta(days=1)\n"
      ]
    },
    {
      "cell_type": "code",
      "execution_count": null,
      "metadata": {
        "id": "VZBSZqWhp37O"
      },
      "outputs": [],
      "source": [
        "with concurrent.futures.ThreadPoolExecutor() as executor:\n",
        "    results = executor.map(twitter, search_phrases)"
      ]
    },
    {
      "cell_type": "code",
      "execution_count": null,
      "metadata": {
        "id": "IzxHzjYqp37O"
      },
      "outputs": [],
      "source": [
        "# Creating list to append tweet data to\n",
        "tweets_list_df = pd.DataFrame(tweets_list, columns =['Phrase',\n",
        "                                                     'Date',\n",
        "                                                     'Tweet ID',\n",
        "                                                     'Content',\n",
        "                                                     'Username',\n",
        "                                                     'Location',\n",
        "                                                     'Place',\n",
        "                                                     'Coordinates',\n",
        "                                                     'Verified',\n",
        "                                                     'FollowerCount',\n",
        "                                                     'retweetCount',\n",
        "                                                     'Language'])"
      ]
    },
    {
      "cell_type": "code",
      "execution_count": null,
      "metadata": {
        "id": "PbSuFAY9p37P",
        "outputId": "92563f3f-efab-4f61-f74f-d7c75af6b5ba"
      },
      "outputs": [
        {
          "data": {
            "text/html": [
              "<div>\n",
              "<style scoped>\n",
              "    .dataframe tbody tr th:only-of-type {\n",
              "        vertical-align: middle;\n",
              "    }\n",
              "\n",
              "    .dataframe tbody tr th {\n",
              "        vertical-align: top;\n",
              "    }\n",
              "\n",
              "    .dataframe thead th {\n",
              "        text-align: right;\n",
              "    }\n",
              "</style>\n",
              "<table border=\"1\" class=\"dataframe\">\n",
              "  <thead>\n",
              "    <tr style=\"text-align: right;\">\n",
              "      <th></th>\n",
              "      <th>Phrase</th>\n",
              "      <th>Date</th>\n",
              "      <th>Tweet ID</th>\n",
              "      <th>Content</th>\n",
              "      <th>Username</th>\n",
              "      <th>Location</th>\n",
              "      <th>Place</th>\n",
              "      <th>Coordinates</th>\n",
              "      <th>Verified</th>\n",
              "      <th>FollowerCount</th>\n",
              "      <th>retweetCount</th>\n",
              "      <th>Language</th>\n",
              "    </tr>\n",
              "  </thead>\n",
              "  <tbody>\n",
              "    <tr>\n",
              "      <th>0</th>\n",
              "      <td>COVID19Vaccine</td>\n",
              "      <td>2020-03-01 22:18:28+00:00</td>\n",
              "      <td>1234241622046437376</td>\n",
              "      <td>@SenSchumer Of course.  Anything else would be...</td>\n",
              "      <td>redirectloop</td>\n",
              "      <td>Los Angeles, CA</td>\n",
              "      <td></td>\n",
              "      <td></td>\n",
              "      <td>False</td>\n",
              "      <td>2747</td>\n",
              "      <td>0</td>\n",
              "      <td>en</td>\n",
              "    </tr>\n",
              "    <tr>\n",
              "      <th>1</th>\n",
              "      <td>COVID19Vaccine</td>\n",
              "      <td>2020-03-01 12:27:16+00:00</td>\n",
              "      <td>1234092843431550985</td>\n",
              "      <td>COVID-19 Vaccine Shipped, and Drug Trials Star...</td>\n",
              "      <td>nou2555</td>\n",
              "      <td>rPod Coworking Space</td>\n",
              "      <td></td>\n",
              "      <td></td>\n",
              "      <td>False</td>\n",
              "      <td>596</td>\n",
              "      <td>0</td>\n",
              "      <td>en</td>\n",
              "    </tr>\n",
              "    <tr>\n",
              "      <th>2</th>\n",
              "      <td>GetVaccinated</td>\n",
              "      <td>2020-03-01 18:15:12+00:00</td>\n",
              "      <td>1234180400798408704</td>\n",
              "      <td>Survey data from @CDCgov show #HPV #vaccinatio...</td>\n",
              "      <td>NFIDvaccines</td>\n",
              "      <td>Bethesda, MD</td>\n",
              "      <td></td>\n",
              "      <td></td>\n",
              "      <td>True</td>\n",
              "      <td>8545</td>\n",
              "      <td>2</td>\n",
              "      <td>en</td>\n",
              "    </tr>\n",
              "    <tr>\n",
              "      <th>3</th>\n",
              "      <td>GetVaccinated</td>\n",
              "      <td>2020-03-01 00:27:13+00:00</td>\n",
              "      <td>1233911633774366722</td>\n",
              "      <td>Hey, what’s in the box lady? \\nGetting my seco...</td>\n",
              "      <td>RationalVaxxer</td>\n",
              "      <td>New Jersey</td>\n",
              "      <td></td>\n",
              "      <td></td>\n",
              "      <td>False</td>\n",
              "      <td>457</td>\n",
              "      <td>0</td>\n",
              "      <td>en</td>\n",
              "    </tr>\n",
              "    <tr>\n",
              "      <th>4</th>\n",
              "      <td>COVIDVaccine</td>\n",
              "      <td>2020-03-01 23:42:03+00:00</td>\n",
              "      <td>1234262655294066688</td>\n",
              "      <td>@BarnowskyLarry @BonginoReport @Strandjunker T...</td>\n",
              "      <td>Glory2G_d</td>\n",
              "      <td>1984</td>\n",
              "      <td></td>\n",
              "      <td></td>\n",
              "      <td>False</td>\n",
              "      <td>1432</td>\n",
              "      <td>0</td>\n",
              "      <td>en</td>\n",
              "    </tr>\n",
              "  </tbody>\n",
              "</table>\n",
              "</div>"
            ],
            "text/plain": [
              "           Phrase                      Date             Tweet ID  \\\n",
              "0  COVID19Vaccine 2020-03-01 22:18:28+00:00  1234241622046437376   \n",
              "1  COVID19Vaccine 2020-03-01 12:27:16+00:00  1234092843431550985   \n",
              "2   GetVaccinated 2020-03-01 18:15:12+00:00  1234180400798408704   \n",
              "3   GetVaccinated 2020-03-01 00:27:13+00:00  1233911633774366722   \n",
              "4    COVIDVaccine 2020-03-01 23:42:03+00:00  1234262655294066688   \n",
              "\n",
              "                                             Content        Username  \\\n",
              "0  @SenSchumer Of course.  Anything else would be...    redirectloop   \n",
              "1  COVID-19 Vaccine Shipped, and Drug Trials Star...         nou2555   \n",
              "2  Survey data from @CDCgov show #HPV #vaccinatio...    NFIDvaccines   \n",
              "3  Hey, what’s in the box lady? \\nGetting my seco...  RationalVaxxer   \n",
              "4  @BarnowskyLarry @BonginoReport @Strandjunker T...       Glory2G_d   \n",
              "\n",
              "               Location Place Coordinates  Verified  FollowerCount  \\\n",
              "0       Los Angeles, CA                       False           2747   \n",
              "1  rPod Coworking Space                       False            596   \n",
              "2          Bethesda, MD                        True           8545   \n",
              "3            New Jersey                       False            457   \n",
              "4                  1984                       False           1432   \n",
              "\n",
              "   retweetCount Language  \n",
              "0             0       en  \n",
              "1             0       en  \n",
              "2             2       en  \n",
              "3             0       en  \n",
              "4             0       en  "
            ]
          },
          "execution_count": 14,
          "metadata": {},
          "output_type": "execute_result"
        }
      ],
      "source": [
        "tweets_list_df.head()"
      ]
    },
    {
      "cell_type": "code",
      "execution_count": null,
      "metadata": {
        "id": "J1-Wym2Ep37Q"
      },
      "outputs": [],
      "source": [
        "tweets_list_df.to_csv('tweet_output.csv')"
      ]
    },
    {
      "cell_type": "code",
      "execution_count": null,
      "metadata": {
        "id": "3n5ajmIYp37R",
        "outputId": "539fdaad-412c-42b6-d3f2-bd8a0a9ddad8"
      },
      "outputs": [
        {
          "data": {
            "text/plain": [
              "222232"
            ]
          },
          "execution_count": 18,
          "metadata": {},
          "output_type": "execute_result"
        }
      ],
      "source": [
        "len(tweets_list_df)"
      ]
    },
    {
      "cell_type": "code",
      "execution_count": null,
      "metadata": {
        "id": "TH58sH7Lp37R"
      },
      "outputs": [],
      "source": []
    }
  ],
  "metadata": {
    "interpreter": {
      "hash": "97a038649a1e67fa238a2edd949ead1384fd37876bf0c8744cc25ac7fc4eb8f9"
    },
    "kernelspec": {
      "display_name": "Python 3 (ipykernel)",
      "language": "python",
      "name": "python3"
    },
    "language_info": {
      "codemirror_mode": {
        "name": "ipython",
        "version": 3
      },
      "file_extension": ".py",
      "mimetype": "text/x-python",
      "name": "python",
      "nbconvert_exporter": "python",
      "pygments_lexer": "ipython3",
      "version": "3.9.7"
    },
    "colab": {
      "provenance": []
    }
  },
  "nbformat": 4,
  "nbformat_minor": 0
}